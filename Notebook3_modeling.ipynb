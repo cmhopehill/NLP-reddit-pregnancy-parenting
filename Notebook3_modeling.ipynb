{
 "cells": [
  {
   "cell_type": "markdown",
   "id": "10971e68-2c97-4287-8d98-6928cc96c57b",
   "metadata": {},
   "source": [
    "# Modeling Notebook"
   ]
  },
  {
   "cell_type": "code",
   "execution_count": 20,
   "id": "b29976ef-d131-4c46-93d5-5751803c87e3",
   "metadata": {
    "tags": []
   },
   "outputs": [],
   "source": [
    "#standard imports\n",
    "import pandas as pd\n",
    "import numpy as np\n",
    "import matplotlib.pyplot as plt\n",
    "import seaborn as sns\n",
    "   \n",
    "#Sklearn imports\n",
    "from sklearn.model_selection import train_test_split\n",
    "from sklearn.pipeline import Pipeline \n",
    "from sklearn.linear_model import LogisticRegression, LogisticRegressionCV\n",
    "from sklearn.metrics import confusion_matrix, plot_confusion_matrix, f1_score, recall_score, precision_score, classification_report\n",
    "from sklearn.naive_bayes import MultinomialNB\n",
    "from sklearn.feature_extraction.text import CountVectorizer, TfidfVectorizer\n",
    "\n",
    "pd.set_option('display.max_colwidth' ,999)"
   ]
  },
  {
   "cell_type": "code",
   "execution_count": 2,
   "id": "25c719d8-d82e-45bd-8770-4c3f8d7087fd",
   "metadata": {},
   "outputs": [],
   "source": [
    "#import downsampled dataframes\n",
    "preg_df = pd.read_csv('./data/downsampled_data/preg_downsample.csv')\n",
    "parent_df =pd.read_csv('./data/downsampled_data/parent_downsample.csv')"
   ]
  },
  {
   "cell_type": "code",
   "execution_count": 3,
   "id": "703d08f8-293c-4234-92fd-c8f9f34b471b",
   "metadata": {},
   "outputs": [],
   "source": [
    "preg_df.drop(columns= 'Unnamed: 0', inplace=True)\n",
    "parent_df.drop(columns= 'Unnamed: 0', inplace= True)"
   ]
  },
  {
   "cell_type": "code",
   "execution_count": 4,
   "id": "f45e0953-a444-42d6-a8b9-10562e6e19c1",
   "metadata": {},
   "outputs": [],
   "source": [
    "preg_parent_df = preg_parent_df = pd.concat([preg_df, parent_df])\n",
    "#preg_parent_df.head(1)\n",
    "#check data loded"
   ]
  },
  {
   "cell_type": "code",
   "execution_count": 5,
   "id": "82520a23-84f2-45a5-8a2e-3df743219c6e",
   "metadata": {},
   "outputs": [
    {
     "name": "stdout",
     "output_type": "stream",
     "text": [
      "<class 'pandas.core.frame.DataFrame'>\n",
      "Int64Index: 50000 entries, 0 to 24999\n",
      "Data columns (total 8 columns):\n",
      " #   Column      Non-Null Count  Dtype  \n",
      "---  ------      --------------  -----  \n",
      " 0   lems        50000 non-null  object \n",
      " 1   selftext    50000 non-null  object \n",
      " 2   title       50000 non-null  object \n",
      " 3   title_lems  50000 non-null  object \n",
      " 4   author      50000 non-null  object \n",
      " 5   subreddit   50000 non-null  object \n",
      " 6   all_lems    50000 non-null  object \n",
      " 7   word_count  50000 non-null  float64\n",
      "dtypes: float64(1), object(7)\n",
      "memory usage: 3.4+ MB\n"
     ]
    }
   ],
   "source": [
    "preg_parent_df.info()"
   ]
  },
  {
   "cell_type": "code",
   "execution_count": 6,
   "id": "0121fedb-786d-43e2-b523-c3876e218e53",
   "metadata": {},
   "outputs": [
    {
     "data": {
      "text/plain": [
       "pregnant     0.5\n",
       "Parenting    0.5\n",
       "Name: subreddit, dtype: float64"
      ]
     },
     "execution_count": 6,
     "metadata": {},
     "output_type": "execute_result"
    }
   ],
   "source": [
    "#baseline model\n",
    "preg_parent_df['subreddit'].value_counts(normalize=True)"
   ]
  },
  {
   "cell_type": "code",
   "execution_count": 7,
   "id": "ba963364-a29a-4af2-a57f-3e926d0cdeb9",
   "metadata": {},
   "outputs": [],
   "source": [
    "#changing subreddit to 0 and 1 for modeling\n",
    "preg_parent_df['subreddit'] = preg_parent_df['subreddit'].map({'pregnant' : 0, 'Parenting' : 1})"
   ]
  },
  {
   "cell_type": "code",
   "execution_count": 10,
   "id": "e950f0dd-37eb-4e1f-ae11-320e75565848",
   "metadata": {},
   "outputs": [],
   "source": [
    "#export out for use later\n",
    "#preg_parent_df.to_csv('./data/preg_parent_downsample.csv')"
   ]
  },
  {
   "cell_type": "markdown",
   "id": "d244f669-23db-4368-99bf-0d85826b453a",
   "metadata": {},
   "source": [
    "## Train, Test, Split\n",
    "* Opting for a 33% : 66% test : train split on the data to give the training data the majority to learn and train on."
   ]
  },
  {
   "cell_type": "code",
   "execution_count": 9,
   "id": "7d31d63c-0726-45dc-a92a-3bea10ee9a92",
   "metadata": {},
   "outputs": [],
   "source": [
    "X = preg_parent_df['all_lems']\n",
    "y = preg_parent_df['subreddit']"
   ]
  },
  {
   "cell_type": "code",
   "execution_count": 10,
   "id": "424795bb-e336-43f4-9103-8f6641cf2ddf",
   "metadata": {},
   "outputs": [],
   "source": [
    "#Setting training and testing split\n",
    "X_train, X_test, y_train, y_test = train_test_split(X,y, test_size= .33,\n",
    "                                                    stratify= y, random_state= 37)"
   ]
  },
  {
   "cell_type": "code",
   "execution_count": 11,
   "id": "6c1538d5-7562-41d7-99b6-093c5d887b84",
   "metadata": {},
   "outputs": [],
   "source": [
    "#Count Vectorizer to change the textual data into vectors for use in the modeling\n",
    "cvec = CountVectorizer(stop_words= 'english', min_df= 2)\n",
    "cvec.fit(X_train)\n",
    "cvec_text = cvec.transform(X_train)\n",
    "cvec_text_df = pd.DataFrame(cvec_text.todense(), columns= cvec.get_feature_names())"
   ]
  },
  {
   "cell_type": "code",
   "execution_count": 12,
   "id": "8889188d-ccf0-43ef-8def-f7d14bddc943",
   "metadata": {},
   "outputs": [
    {
     "data": {
      "text/html": [
       "<div>\n",
       "<style scoped>\n",
       "    .dataframe tbody tr th:only-of-type {\n",
       "        vertical-align: middle;\n",
       "    }\n",
       "\n",
       "    .dataframe tbody tr th {\n",
       "        vertical-align: top;\n",
       "    }\n",
       "\n",
       "    .dataframe thead th {\n",
       "        text-align: right;\n",
       "    }\n",
       "</style>\n",
       "<table border=\"1\" class=\"dataframe\">\n",
       "  <thead>\n",
       "    <tr style=\"text-align: right;\">\n",
       "      <th></th>\n",
       "      <th>00</th>\n",
       "      <th>000</th>\n",
       "      <th>00am</th>\n",
       "      <th>00pm</th>\n",
       "      <th>01</th>\n",
       "      <th>02</th>\n",
       "      <th>0230</th>\n",
       "      <th>03</th>\n",
       "      <th>03pm</th>\n",
       "      <th>04</th>\n",
       "      <th>...</th>\n",
       "      <th>zygote</th>\n",
       "      <th>zyrtec</th>\n",
       "      <th>الحامل</th>\n",
       "      <th>الحمل</th>\n",
       "      <th>على</th>\n",
       "      <th>في</th>\n",
       "      <th>للحامل</th>\n",
       "      <th>من</th>\n",
       "      <th>هي</th>\n",
       "      <th>subreddit_values</th>\n",
       "    </tr>\n",
       "  </thead>\n",
       "  <tbody>\n",
       "    <tr>\n",
       "      <th>0</th>\n",
       "      <td>0</td>\n",
       "      <td>0</td>\n",
       "      <td>0</td>\n",
       "      <td>0</td>\n",
       "      <td>0</td>\n",
       "      <td>0</td>\n",
       "      <td>0</td>\n",
       "      <td>0</td>\n",
       "      <td>0</td>\n",
       "      <td>0</td>\n",
       "      <td>...</td>\n",
       "      <td>0</td>\n",
       "      <td>0</td>\n",
       "      <td>0</td>\n",
       "      <td>0</td>\n",
       "      <td>0</td>\n",
       "      <td>0</td>\n",
       "      <td>0</td>\n",
       "      <td>0</td>\n",
       "      <td>0</td>\n",
       "      <td>1</td>\n",
       "    </tr>\n",
       "    <tr>\n",
       "      <th>1</th>\n",
       "      <td>0</td>\n",
       "      <td>0</td>\n",
       "      <td>0</td>\n",
       "      <td>0</td>\n",
       "      <td>0</td>\n",
       "      <td>0</td>\n",
       "      <td>0</td>\n",
       "      <td>0</td>\n",
       "      <td>0</td>\n",
       "      <td>0</td>\n",
       "      <td>...</td>\n",
       "      <td>0</td>\n",
       "      <td>0</td>\n",
       "      <td>0</td>\n",
       "      <td>0</td>\n",
       "      <td>0</td>\n",
       "      <td>0</td>\n",
       "      <td>0</td>\n",
       "      <td>0</td>\n",
       "      <td>0</td>\n",
       "      <td>0</td>\n",
       "    </tr>\n",
       "    <tr>\n",
       "      <th>2</th>\n",
       "      <td>0</td>\n",
       "      <td>0</td>\n",
       "      <td>0</td>\n",
       "      <td>0</td>\n",
       "      <td>0</td>\n",
       "      <td>0</td>\n",
       "      <td>0</td>\n",
       "      <td>0</td>\n",
       "      <td>0</td>\n",
       "      <td>0</td>\n",
       "      <td>...</td>\n",
       "      <td>0</td>\n",
       "      <td>0</td>\n",
       "      <td>0</td>\n",
       "      <td>0</td>\n",
       "      <td>0</td>\n",
       "      <td>0</td>\n",
       "      <td>0</td>\n",
       "      <td>0</td>\n",
       "      <td>0</td>\n",
       "      <td>1</td>\n",
       "    </tr>\n",
       "  </tbody>\n",
       "</table>\n",
       "<p>3 rows × 20569 columns</p>\n",
       "</div>"
      ],
      "text/plain": [
       "   00  000  00am  00pm  01  02  0230  03  03pm  04  ...  zygote  zyrtec  \\\n",
       "0   0    0     0     0   0   0     0   0     0   0  ...       0       0   \n",
       "1   0    0     0     0   0   0     0   0     0   0  ...       0       0   \n",
       "2   0    0     0     0   0   0     0   0     0   0  ...       0       0   \n",
       "\n",
       "   الحامل  الحمل  على  في  للحامل  من  هي  subreddit_values  \n",
       "0       0      0    0   0       0   0   0                 1  \n",
       "1       0      0    0   0       0   0   0                 0  \n",
       "2       0      0    0   0       0   0   0                 1  \n",
       "\n",
       "[3 rows x 20569 columns]"
      ]
     },
     "execution_count": 12,
     "metadata": {},
     "output_type": "execute_result"
    }
   ],
   "source": [
    "#dataframe of the vector for each lem\n",
    "cvec_text_df['subreddit_values'] = y_train.values\n",
    "cvec_text_df.head(3)"
   ]
  },
  {
   "cell_type": "code",
   "execution_count": 13,
   "id": "a77db983-2e51-4afe-8249-5dfc76650cf5",
   "metadata": {},
   "outputs": [
    {
     "data": {
      "text/plain": [
       "TfidfVectorizer(min_df=2, stop_words='english')"
      ]
     },
     "execution_count": 13,
     "metadata": {},
     "output_type": "execute_result"
    }
   ],
   "source": [
    "tfidf = TfidfVectorizer(min_df=2, stop_words= 'english')\n",
    "tfidf.fit(X_train)"
   ]
  },
  {
   "cell_type": "code",
   "execution_count": 14,
   "id": "29962f9d-3e16-44b3-8a37-621af0806b60",
   "metadata": {},
   "outputs": [],
   "source": [
    "tfidf_text    = tfidf.transform(X_train)\n",
    "tfidf_text_df = pd.DataFrame(tfidf_text.todense(), columns= tfidf.get_feature_names()) "
   ]
  },
  {
   "cell_type": "code",
   "execution_count": 15,
   "id": "0ff81298-aea4-41ea-ad9a-c86b7b6069c3",
   "metadata": {},
   "outputs": [
    {
     "data": {
      "text/plain": [
       "20568"
      ]
     },
     "execution_count": 15,
     "metadata": {},
     "output_type": "execute_result"
    }
   ],
   "source": [
    "vocab = tfidf.get_feature_names()\n",
    "len(vocab)"
   ]
  },
  {
   "cell_type": "code",
   "execution_count": 16,
   "id": "2cdf337a-6f1d-401f-9222-dc7266e5f3be",
   "metadata": {},
   "outputs": [
    {
     "data": {
      "text/plain": [
       "20568"
      ]
     },
     "execution_count": 16,
     "metadata": {},
     "output_type": "execute_result"
    }
   ],
   "source": [
    "len(tfidf.idf_)"
   ]
  },
  {
   "cell_type": "code",
   "execution_count": 17,
   "id": "f2523c53-8d28-4afb-8481-cf2fd828c4b2",
   "metadata": {},
   "outputs": [],
   "source": [
    "idf_df = pd.DataFrame(zip(vocab, tfidf.idf_), columns= ['Vocabularly', 'IDF'])"
   ]
  },
  {
   "cell_type": "code",
   "execution_count": 18,
   "id": "1e2b5e00-470b-4257-ab99-dc07782dbf42",
   "metadata": {},
   "outputs": [
    {
     "data": {
      "text/html": [
       "<div>\n",
       "<style scoped>\n",
       "    .dataframe tbody tr th:only-of-type {\n",
       "        vertical-align: middle;\n",
       "    }\n",
       "\n",
       "    .dataframe tbody tr th {\n",
       "        vertical-align: top;\n",
       "    }\n",
       "\n",
       "    .dataframe thead th {\n",
       "        text-align: right;\n",
       "    }\n",
       "</style>\n",
       "<table border=\"1\" class=\"dataframe\">\n",
       "  <thead>\n",
       "    <tr style=\"text-align: right;\">\n",
       "      <th></th>\n",
       "      <th>Vocabularly</th>\n",
       "      <th>IDF</th>\n",
       "    </tr>\n",
       "  </thead>\n",
       "  <tbody>\n",
       "    <tr>\n",
       "      <th>10491</th>\n",
       "      <td>just</td>\n",
       "      <td>1.603145</td>\n",
       "    </tr>\n",
       "    <tr>\n",
       "      <th>19822</th>\n",
       "      <td>wa</td>\n",
       "      <td>1.773707</td>\n",
       "    </tr>\n",
       "    <tr>\n",
       "      <th>10982</th>\n",
       "      <td>like</td>\n",
       "      <td>1.830691</td>\n",
       "    </tr>\n",
       "    <tr>\n",
       "      <th>8752</th>\n",
       "      <td>ha</td>\n",
       "      <td>1.942634</td>\n",
       "    </tr>\n",
       "    <tr>\n",
       "      <th>20010</th>\n",
       "      <td>week</td>\n",
       "      <td>1.952644</td>\n",
       "    </tr>\n",
       "  </tbody>\n",
       "</table>\n",
       "</div>"
      ],
      "text/plain": [
       "      Vocabularly       IDF\n",
       "10491        just  1.603145\n",
       "19822          wa  1.773707\n",
       "10982        like  1.830691\n",
       "8752           ha  1.942634\n",
       "20010        week  1.952644"
      ]
     },
     "execution_count": 18,
     "metadata": {},
     "output_type": "execute_result"
    }
   ],
   "source": [
    "idf_df.sort_values(by = 'IDF').head() "
   ]
  },
  {
   "cell_type": "code",
   "execution_count": 19,
   "id": "ce5a8fca-1125-4b41-81a2-848a2d143d72",
   "metadata": {},
   "outputs": [
    {
     "data": {
      "text/html": [
       "<div>\n",
       "<style scoped>\n",
       "    .dataframe tbody tr th:only-of-type {\n",
       "        vertical-align: middle;\n",
       "    }\n",
       "\n",
       "    .dataframe tbody tr th {\n",
       "        vertical-align: top;\n",
       "    }\n",
       "\n",
       "    .dataframe thead th {\n",
       "        text-align: right;\n",
       "    }\n",
       "</style>\n",
       "<table border=\"1\" class=\"dataframe\">\n",
       "  <thead>\n",
       "    <tr style=\"text-align: right;\">\n",
       "      <th></th>\n",
       "      <th>Vocabularly</th>\n",
       "      <th>IDF</th>\n",
       "    </tr>\n",
       "  </thead>\n",
       "  <tbody>\n",
       "    <tr>\n",
       "      <th>6598</th>\n",
       "      <td>eilish</td>\n",
       "      <td>10.320718</td>\n",
       "    </tr>\n",
       "    <tr>\n",
       "      <th>6599</th>\n",
       "      <td>einstein</td>\n",
       "      <td>10.320718</td>\n",
       "    </tr>\n",
       "    <tr>\n",
       "      <th>6600</th>\n",
       "      <td>eip</td>\n",
       "      <td>10.320718</td>\n",
       "    </tr>\n",
       "    <tr>\n",
       "      <th>6591</th>\n",
       "      <td>ehh</td>\n",
       "      <td>10.320718</td>\n",
       "    </tr>\n",
       "    <tr>\n",
       "      <th>20567</th>\n",
       "      <td>هي</td>\n",
       "      <td>10.320718</td>\n",
       "    </tr>\n",
       "  </tbody>\n",
       "</table>\n",
       "</div>"
      ],
      "text/plain": [
       "      Vocabularly        IDF\n",
       "6598       eilish  10.320718\n",
       "6599     einstein  10.320718\n",
       "6600          eip  10.320718\n",
       "6591          ehh  10.320718\n",
       "20567          هي  10.320718"
      ]
     },
     "execution_count": 19,
     "metadata": {},
     "output_type": "execute_result"
    }
   ],
   "source": [
    "idf_df.sort_values(by = 'IDF').tail()"
   ]
  },
  {
   "cell_type": "markdown",
   "id": "93c4b2ec-9521-46b2-97a1-41ba58cd4640",
   "metadata": {},
   "source": [
    "## Modeling"
   ]
  },
  {
   "cell_type": "markdown",
   "id": "32e5a719-d85b-49f3-851a-957d29801e4d",
   "metadata": {},
   "source": [
    "### Model 1 Logistic Regression and Count Vectorizer"
   ]
  },
  {
   "cell_type": "code",
   "execution_count": 20,
   "id": "a7474a4b-bcfb-425f-a984-63bc93bb30d8",
   "metadata": {},
   "outputs": [],
   "source": [
    "#Model with Log Reg and Count Vectorizer\n",
    "#pipe = Pipeline([\n",
    " #   ('cv', CountVectorizer()),\n",
    "  #  ('lr', LogisticRegressionCV(solver='liblinear'))\n",
    "#])"
   ]
  },
  {
   "cell_type": "code",
   "execution_count": 35,
   "id": "b83d7d4b-2aeb-4801-a145-01056ba2ee84",
   "metadata": {},
   "outputs": [
    {
     "name": "stdout",
     "output_type": "stream",
     "text": [
      "Wall time: 0 ns\n"
     ]
    }
   ],
   "source": [
    "#pipe.fit(X_train, y_train)"
   ]
  },
  {
   "cell_type": "code",
   "execution_count": 35,
   "id": "aff8ef40-e4ec-43d3-b035-e2ecf73c71be",
   "metadata": {},
   "outputs": [
    {
     "data": {
      "text/plain": [
       "(0.9681492537313433, 0.9502424242424242)"
      ]
     },
     "execution_count": 35,
     "metadata": {},
     "output_type": "execute_result"
    }
   ],
   "source": [
    "#pipe.score(X_train, y_train) , pipe.score(X_test, y_test)"
   ]
  },
  {
   "cell_type": "markdown",
   "id": "47c0db24-036f-42ef-a1e5-a69d0604e725",
   "metadata": {},
   "source": [
    "#### Model 1 Interpretation\n",
    "* Countvectorizer and Logistic Regression appear to be performing very well!\n",
    "* We are bit overfit by about 1.8% from train to test, but that's still really good."
   ]
  },
  {
   "cell_type": "markdown",
   "id": "9d1040d5-7a62-48d1-9124-eb40748fc0fd",
   "metadata": {},
   "source": [
    "### Model 2 Naive Bayes and Tfidf Vectorizer"
   ]
  },
  {
   "cell_type": "code",
   "execution_count": 36,
   "id": "b21f51dd-e848-4b24-9103-c150f3a57597",
   "metadata": {},
   "outputs": [],
   "source": [
    "#pipe_2 = Pipeline([\n",
    " #   ('tfidf', TfidfVectorizer()),\n",
    "  #  ('nb', MultinomialNB())\n",
    "#])"
   ]
  },
  {
   "cell_type": "code",
   "execution_count": 37,
   "id": "8d61b5d6-aa0d-4a9c-8b9d-5a5858fdd28a",
   "metadata": {},
   "outputs": [
    {
     "data": {
      "text/plain": [
       "Pipeline(steps=[('tfidf', TfidfVectorizer()), ('nb', MultinomialNB())])"
      ]
     },
     "execution_count": 37,
     "metadata": {},
     "output_type": "execute_result"
    }
   ],
   "source": [
    "#pipe_2.fit(X_train, y_train)"
   ]
  },
  {
   "cell_type": "code",
   "execution_count": 38,
   "id": "aa17085c-a9eb-4bab-b32d-e58c80bf69e7",
   "metadata": {},
   "outputs": [
    {
     "data": {
      "text/plain": [
       "(0.9311940298507463, 0.9167878787878788)"
      ]
     },
     "execution_count": 38,
     "metadata": {},
     "output_type": "execute_result"
    }
   ],
   "source": [
    "#pipe_2.score(X_train, y_train), pipe_2.score(X_test, y_test)"
   ]
  },
  {
   "cell_type": "markdown",
   "id": "f0533f0d-2ba0-4b3e-be91-1544013b663a",
   "metadata": {},
   "source": [
    "#### Model 2 Interpretation\n",
    "* Tfidf Vectorizer and Naive Bayes appear to also perform well, though not as strong as Logistic Regression and Count Vectorizer\n",
    "* We are bit overfit by about 1.5% from train to test, but that's still rather good."
   ]
  },
  {
   "cell_type": "markdown",
   "id": "6adb63b1-0ec6-4936-9c95-4d1d4f429edc",
   "metadata": {},
   "source": [
    "### Model 3 Logistic Regression and Tfidf Vectorizer"
   ]
  },
  {
   "cell_type": "code",
   "execution_count": 21,
   "id": "c921aad0-d8f9-4357-af98-c6c7048dfaad",
   "metadata": {},
   "outputs": [],
   "source": [
    "pipe_3 = Pipeline([('tfidf', TfidfVectorizer()), ('lr', LogisticRegressionCV(solver= 'liblinear'))])"
   ]
  },
  {
   "cell_type": "code",
   "execution_count": 22,
   "id": "606e2596-405f-43ec-9788-3db130e28de5",
   "metadata": {},
   "outputs": [
    {
     "data": {
      "text/plain": [
       "Pipeline(steps=[('tfidf', TfidfVectorizer()),\n",
       "                ('lr', LogisticRegressionCV(solver='liblinear'))])"
      ]
     },
     "execution_count": 22,
     "metadata": {},
     "output_type": "execute_result"
    }
   ],
   "source": [
    "pipe_3.fit(X_train, y_train)"
   ]
  },
  {
   "cell_type": "code",
   "execution_count": 23,
   "id": "3c27b9ec-bb6a-4d7d-964d-5c3d9d3b7587",
   "metadata": {},
   "outputs": [
    {
     "data": {
      "text/plain": [
       "(0.9717313432835821, 0.952060606060606)"
      ]
     },
     "execution_count": 23,
     "metadata": {},
     "output_type": "execute_result"
    }
   ],
   "source": [
    "pipe_3.score(X_train, y_train) , pipe_3.score(X_test, y_test)"
   ]
  },
  {
   "cell_type": "code",
   "execution_count": 24,
   "id": "9e41ad5a-7193-4b7c-816e-1c47fc45fb04",
   "metadata": {},
   "outputs": [],
   "source": [
    "predicts = pipe_3.predict(X_test)"
   ]
  },
  {
   "cell_type": "markdown",
   "id": "c26da338-e22e-4c01-9dce-c96d3f5ad607",
   "metadata": {},
   "source": [
    "#### Model 3 Interpretation\n",
    "* Pairing Tfidf Vectorizer with Logistic Regression appears to give the best score so far.\n",
    "* We are slighlty more overfit from train to test in this model than in the Log Reg model with Count Vectorizer, but both training and testing scores increaed so this still seems like a better model overall."
   ]
  },
  {
   "cell_type": "code",
   "execution_count": 25,
   "id": "1a7cb2b8-2726-4f5b-9c37-7cc06281f83a",
   "metadata": {},
   "outputs": [
    {
     "data": {
      "text/plain": [
       "0.9522025500030212"
      ]
     },
     "execution_count": 25,
     "metadata": {},
     "output_type": "execute_result"
    }
   ],
   "source": [
    "f1_score(y_true= y_test, y_pred= predicts)"
   ]
  },
  {
   "cell_type": "code",
   "execution_count": 26,
   "id": "2712b244-0639-4907-a843-dfac2a981698",
   "metadata": {},
   "outputs": [
    {
     "data": {
      "text/plain": [
       "0.9493914929509579"
      ]
     },
     "execution_count": 26,
     "metadata": {},
     "output_type": "execute_result"
    }
   ],
   "source": [
    "precision_score(y_true= y_test, y_pred= predicts)"
   ]
  },
  {
   "cell_type": "code",
   "execution_count": 27,
   "id": "934544ca-52ec-4843-a971-458361667199",
   "metadata": {},
   "outputs": [
    {
     "data": {
      "text/plain": [
       "0.955030303030303"
      ]
     },
     "execution_count": 27,
     "metadata": {},
     "output_type": "execute_result"
    }
   ],
   "source": [
    "recall_score(y_true= y_test, y_pred= predicts)"
   ]
  },
  {
   "cell_type": "code",
   "execution_count": 28,
   "id": "ed4bf2dd-edab-4627-b939-495e26ae39d7",
   "metadata": {},
   "outputs": [
    {
     "name": "stdout",
     "output_type": "stream",
     "text": [
      "              precision    recall  f1-score   support\n",
      "\n",
      "           0       0.95      0.95      0.95      8250\n",
      "           1       0.95      0.96      0.95      8250\n",
      "\n",
      "    accuracy                           0.95     16500\n",
      "   macro avg       0.95      0.95      0.95     16500\n",
      "weighted avg       0.95      0.95      0.95     16500\n",
      "\n"
     ]
    }
   ],
   "source": [
    "print(classification_report(y_true= y_test, y_pred= predicts))"
   ]
  },
  {
   "cell_type": "code",
   "execution_count": 30,
   "id": "cc3f955e-3c1c-4dd4-a11d-14099e8f1a3c",
   "metadata": {},
   "outputs": [
    {
     "data": {
      "image/png": "[encoded data removed]",
      "text/plain": [
       "<Figure size 432x288 with 2 Axes>"
      ]
     },
     "metadata": {
      "needs_background": "light"
     },
     "output_type": "display_data"
    }
   ],
   "source": [
    "plot_confusion_matrix(estimator= pipe_3,  X= X_test, y_true= y_test);"
   ]
  },
  {
   "cell_type": "code",
   "execution_count": null,
   "id": "c44e0bfb-b422-45b0-8802-88b93c662505",
   "metadata": {},
   "outputs": [],
   "source": []
  }
 ],
 "metadata": {
  "kernelspec": {
   "display_name": "Python 3",
   "language": "python",
   "name": "python3"
  },
  "language_info": {
   "codemirror_mode": {
    "name": "ipython",
    "version": 3
   },
   "file_extension": ".py",
   "mimetype": "text/x-python",
   "name": "python",
   "nbconvert_exporter": "python",
   "pygments_lexer": "ipython3",
   "version": "3.8.8"
  }
 },
 "nbformat": 4,
 "nbformat_minor": 5
}
