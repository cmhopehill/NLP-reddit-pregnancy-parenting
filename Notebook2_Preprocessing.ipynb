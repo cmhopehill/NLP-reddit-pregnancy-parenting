{
 "cells": [
  {
   "cell_type": "markdown",
   "id": "292e6243-e777-487f-b559-472dec6fbe35",
   "metadata": {},
   "source": [
    "# Preprocessing Notebook"
   ]
  },
  {
   "cell_type": "code",
   "execution_count": 2,
   "id": "bf0e9640-f48e-40fa-b0f1-c484010edec6",
   "metadata": {},
   "outputs": [],
   "source": [
    "#Standard imports\n",
    "import pandas as pd\n",
    "import numpy as np\n",
    "import matplotlib.pyplot as plt\n",
    "import seaborn as sns\n",
    "\n",
    "#NLTK or Natural Language Toolkit imports (based on imports from lesson 5.03)\n",
    "from nltk.tokenize import sent_tokenize, word_tokenize, RegexpTokenizer\n",
    "from nltk.stem import WordNetLemmatizer\n",
    "from nltk.stem.porter import PorterStemmer\n",
    "from nltk.corpus import stopwords\n",
    "from nltk.sentiment.vader import SentimentIntensityAnalyzer\n",
    "\n",
    "pd.set_option('display.max_colwidth' ,999)"
   ]
  },
  {
   "cell_type": "code",
   "execution_count": 3,
   "id": "6a81a6e2-c92b-4f77-a0c7-31dc564797df",
   "metadata": {},
   "outputs": [],
   "source": [
    "#CSVs with lems after tokenizing and lemmatizing\n",
    "preg_df = pd.read_csv('./data//Lem_data/pregnant_lems.csv').drop(columns= 'Unnamed: 0')\n",
    "parent_df = pd.read_csv('./data//Lem_data/parent_lems.csv').drop(columns= 'Unnamed: 0')"
   ]
  },
  {
   "cell_type": "code",
   "execution_count": 4,
   "id": "0f43c3ca-3ce4-4887-88cc-b818510d133e",
   "metadata": {},
   "outputs": [
    {
     "data": {
      "text/html": [
       "<div>\n",
       "<style scoped>\n",
       "    .dataframe tbody tr th:only-of-type {\n",
       "        vertical-align: middle;\n",
       "    }\n",
       "\n",
       "    .dataframe tbody tr th {\n",
       "        vertical-align: top;\n",
       "    }\n",
       "\n",
       "    .dataframe thead th {\n",
       "        text-align: right;\n",
       "    }\n",
       "</style>\n",
       "<table border=\"1\" class=\"dataframe\">\n",
       "  <thead>\n",
       "    <tr style=\"text-align: right;\">\n",
       "      <th></th>\n",
       "      <th>lems</th>\n",
       "      <th>selftext</th>\n",
       "      <th>title</th>\n",
       "      <th>title_lems</th>\n",
       "      <th>author</th>\n",
       "      <th>subreddit</th>\n",
       "    </tr>\n",
       "  </thead>\n",
       "  <tbody>\n",
       "    <tr>\n",
       "      <th>0</th>\n",
       "      <td>anyone who could deliver any day now crossing finger that baby doesn t come tonight tomorrow so they don t share their birthday with halloween just me stay in there baby</td>\n",
       "      <td>Anyone who could deliver any day now crossing fingers that baby doesn’t come tonight/tomorrow so they don’t share their birthday with Halloween? Just me? Stay in there, baby.</td>\n",
       "      <td>Halloween baby?</td>\n",
       "      <td>halloween baby</td>\n",
       "      <td>Beautiful_Bonus_4058</td>\n",
       "      <td>pregnant</td>\n",
       "    </tr>\n",
       "  </tbody>\n",
       "</table>\n",
       "</div>"
      ],
      "text/plain": [
       "                                                                                                                                                                        lems  \\\n",
       "0  anyone who could deliver any day now crossing finger that baby doesn t come tonight tomorrow so they don t share their birthday with halloween just me stay in there baby   \n",
       "\n",
       "                                                                                                                                                                         selftext  \\\n",
       "0  Anyone who could deliver any day now crossing fingers that baby doesn’t come tonight/tomorrow so they don’t share their birthday with Halloween? Just me? Stay in there, baby.   \n",
       "\n",
       "             title      title_lems                author subreddit  \n",
       "0  Halloween baby?  halloween baby  Beautiful_Bonus_4058  pregnant  "
      ]
     },
     "execution_count": 4,
     "metadata": {},
     "output_type": "execute_result"
    }
   ],
   "source": [
    "preg_df.head(1)"
   ]
  },
  {
   "cell_type": "markdown",
   "id": "7e55d372-c0cb-4104-9985-51ef401a00ae",
   "metadata": {},
   "source": [
    "### Creating new columns 'all_lems' and 'word_count'"
   ]
  },
  {
   "cell_type": "code",
   "execution_count": 7,
   "id": "cf52183e-aa64-4f35-9a97-f3a7dd8186d1",
   "metadata": {},
   "outputs": [],
   "source": [
    "#creating all lem column\n",
    "preg_df['all_lems'] = preg_df['title_lems'] + ' ' + preg_df['lems']\n",
    "parent_df['all_lems'] = parent_df['title_lems'] + ' ' + parent_df['lems']"
   ]
  },
  {
   "cell_type": "code",
   "execution_count": 8,
   "id": "dd897e30-3241-45d5-98a0-a3792cb919a3",
   "metadata": {},
   "outputs": [],
   "source": [
    "#creating word count column\n",
    "preg_df['word_count'] = preg_df['all_lems'].str.split().str.len()\n",
    "\n",
    "parent_df['word_count'] = parent_df['all_lems'].str.split().str.len()"
   ]
  },
  {
   "cell_type": "markdown",
   "id": "2d9970d5-5813-4e76-a016-ee8a15990d76",
   "metadata": {},
   "source": [
    "### Box Plots and Summary Statistics to check the word count distribution and outliers"
   ]
  },
  {
   "cell_type": "code",
   "execution_count": 9,
   "id": "be27a744-8079-47c4-bb2a-02028c08910e",
   "metadata": {},
   "outputs": [
    {
     "data": {
      "text/html": [
       "<div>\n",
       "<style scoped>\n",
       "    .dataframe tbody tr th:only-of-type {\n",
       "        vertical-align: middle;\n",
       "    }\n",
       "\n",
       "    .dataframe tbody tr th {\n",
       "        vertical-align: top;\n",
       "    }\n",
       "\n",
       "    .dataframe thead th {\n",
       "        text-align: right;\n",
       "    }\n",
       "</style>\n",
       "<table border=\"1\" class=\"dataframe\">\n",
       "  <thead>\n",
       "    <tr style=\"text-align: right;\">\n",
       "      <th></th>\n",
       "      <th>count</th>\n",
       "      <th>mean</th>\n",
       "      <th>std</th>\n",
       "      <th>min</th>\n",
       "      <th>25%</th>\n",
       "      <th>50%</th>\n",
       "      <th>75%</th>\n",
       "      <th>max</th>\n",
       "    </tr>\n",
       "  </thead>\n",
       "  <tbody>\n",
       "    <tr>\n",
       "      <th>word_count</th>\n",
       "      <td>94641.0</td>\n",
       "      <td>152.900572</td>\n",
       "      <td>164.618241</td>\n",
       "      <td>2.0</td>\n",
       "      <td>65.0</td>\n",
       "      <td>108.0</td>\n",
       "      <td>181.0</td>\n",
       "      <td>6135.0</td>\n",
       "    </tr>\n",
       "  </tbody>\n",
       "</table>\n",
       "</div>"
      ],
      "text/plain": [
       "              count        mean         std  min   25%    50%    75%     max\n",
       "word_count  94641.0  152.900572  164.618241  2.0  65.0  108.0  181.0  6135.0"
      ]
     },
     "execution_count": 9,
     "metadata": {},
     "output_type": "execute_result"
    }
   ],
   "source": [
    "preg_df[['word_count']].describe().T"
   ]
  },
  {
   "cell_type": "code",
   "execution_count": 10,
   "id": "aca6dc6e-b3b8-4216-9c3b-0449fd7d01a2",
   "metadata": {},
   "outputs": [
    {
     "data": {
      "text/plain": [
       "''"
      ]
     },
     "execution_count": 10,
     "metadata": {},
     "output_type": "execute_result"
    },
    {
     "data": {
      "image/png": "[encoded data removed]",
      "text/plain": [
       "<Figure size 432x288 with 1 Axes>"
      ]
     },
     "metadata": {
      "needs_background": "light"
     },
     "output_type": "display_data"
    }
   ],
   "source": [
    "sns.boxenplot(x=preg_df['word_count'])\n",
    "\n",
    "plt.title('r/pregnant Word Count per post')\n",
    "\n",
    "plt.savefig('pregnant_boxenplot.png')\n",
    ";"
   ]
  },
  {
   "cell_type": "code",
   "execution_count": 11,
   "id": "cf8d6dc5-4be0-4cd2-96ca-6337817a458d",
   "metadata": {},
   "outputs": [
    {
     "data": {
      "text/html": [
       "<div>\n",
       "<style scoped>\n",
       "    .dataframe tbody tr th:only-of-type {\n",
       "        vertical-align: middle;\n",
       "    }\n",
       "\n",
       "    .dataframe tbody tr th {\n",
       "        vertical-align: top;\n",
       "    }\n",
       "\n",
       "    .dataframe thead th {\n",
       "        text-align: right;\n",
       "    }\n",
       "</style>\n",
       "<table border=\"1\" class=\"dataframe\">\n",
       "  <thead>\n",
       "    <tr style=\"text-align: right;\">\n",
       "      <th></th>\n",
       "      <th>count</th>\n",
       "      <th>mean</th>\n",
       "      <th>std</th>\n",
       "      <th>min</th>\n",
       "      <th>25%</th>\n",
       "      <th>50%</th>\n",
       "      <th>75%</th>\n",
       "      <th>max</th>\n",
       "    </tr>\n",
       "  </thead>\n",
       "  <tbody>\n",
       "    <tr>\n",
       "      <th>word_count</th>\n",
       "      <td>79162.0</td>\n",
       "      <td>224.849233</td>\n",
       "      <td>200.176196</td>\n",
       "      <td>2.0</td>\n",
       "      <td>101.0</td>\n",
       "      <td>170.0</td>\n",
       "      <td>282.0</td>\n",
       "      <td>5605.0</td>\n",
       "    </tr>\n",
       "  </tbody>\n",
       "</table>\n",
       "</div>"
      ],
      "text/plain": [
       "              count        mean         std  min    25%    50%    75%     max\n",
       "word_count  79162.0  224.849233  200.176196  2.0  101.0  170.0  282.0  5605.0"
      ]
     },
     "execution_count": 11,
     "metadata": {},
     "output_type": "execute_result"
    }
   ],
   "source": [
    "parent_df[['word_count']].describe().T"
   ]
  },
  {
   "cell_type": "code",
   "execution_count": 12,
   "id": "70669eaf-59f7-44f5-bf6c-3426719e1e0d",
   "metadata": {},
   "outputs": [
    {
     "data": {
      "image/png": "[encoded data removed]",
      "text/plain": [
       "<Figure size 432x288 with 1 Axes>"
      ]
     },
     "metadata": {
      "needs_background": "light"
     },
     "output_type": "display_data"
    }
   ],
   "source": [
    "sns.boxenplot(x=parent_df['word_count'])\n",
    "\n",
    "plt.title('r/parenting Word Count per post')\n",
    "\n",
    "plt.savefig('parent_boxenplot.png');"
   ]
  },
  {
   "cell_type": "markdown",
   "id": "2818dee4-c88b-4d7e-b99e-17dd4d934737",
   "metadata": {},
   "source": [
    "Based on both of the box plots it looks as though there is a similar distribution of word counts for the posts from r/pregnant and r/parenting."
   ]
  },
  {
   "cell_type": "markdown",
   "id": "5b89f43f-ac33-48e4-8c55-1cd10b6245f5",
   "metadata": {},
   "source": [
    "### Attempt to downsize DF's based on large and small outliers"
   ]
  },
  {
   "cell_type": "code",
   "execution_count": 9,
   "id": "49bb563a-efea-4af4-92a2-0ca98f7f02ed",
   "metadata": {},
   "outputs": [
    {
     "data": {
      "text/plain": [
       "(5073, 8)"
      ]
     },
     "execution_count": 9,
     "metadata": {},
     "output_type": "execute_result"
    }
   ],
   "source": [
    "# ~ 5000 that have 400 or more words\n",
    "preg_df[preg_df['word_count'] >= 400].shape"
   ]
  },
  {
   "cell_type": "code",
   "execution_count": 10,
   "id": "ce05946e-5d10-4d5a-9760-c6cf7f749c78",
   "metadata": {},
   "outputs": [
    {
     "data": {
      "text/plain": [
       "(9512, 8)"
      ]
     },
     "execution_count": 10,
     "metadata": {},
     "output_type": "execute_result"
    }
   ],
   "source": [
    "# ~ 9000 that have 40 words or less\n",
    "preg_df[preg_df['word_count'] <= 40].shape"
   ]
  },
  {
   "cell_type": "code",
   "execution_count": 20,
   "id": "34d5c6f5-3c35-4c4c-8db1-5ff5c0c7f59f",
   "metadata": {},
   "outputs": [],
   "source": [
    "preg_df = preg_df[(preg_df['word_count'] > 40) & (preg_df['word_count'] <400)]"
   ]
  },
  {
   "cell_type": "code",
   "execution_count": 21,
   "id": "ae31946c-a113-440f-bf6e-9644efc9e5a0",
   "metadata": {},
   "outputs": [
    {
     "data": {
      "text/plain": [
       "(80056, 8)"
      ]
     },
     "execution_count": 21,
     "metadata": {},
     "output_type": "execute_result"
    }
   ],
   "source": [
    "preg_df.shape"
   ]
  },
  {
   "cell_type": "code",
   "execution_count": 13,
   "id": "49f0a171-989e-4d81-a62f-0f3260edde58",
   "metadata": {},
   "outputs": [
    {
     "data": {
      "text/plain": [
       "(80056, 8)"
      ]
     },
     "execution_count": 13,
     "metadata": {},
     "output_type": "execute_result"
    }
   ],
   "source": [
    "# now down to 80 thousand posts\n",
    "preg_df.shape"
   ]
  },
  {
   "cell_type": "code",
   "execution_count": 15,
   "id": "c9e3a3c2-6013-4953-ba45-9bf0137a8688",
   "metadata": {},
   "outputs": [
    {
     "data": {
      "text/plain": [
       "(9949, 8)"
      ]
     },
     "execution_count": 15,
     "metadata": {},
     "output_type": "execute_result"
    }
   ],
   "source": [
    "#672 with 1000 or more words\n",
    "parent_df[parent_df['word_count'] >= 400].shape"
   ]
  },
  {
   "cell_type": "code",
   "execution_count": 16,
   "id": "e0a57e3f-aa47-4e08-8da5-0d15858f6142",
   "metadata": {},
   "outputs": [
    {
     "data": {
      "text/plain": [
       "(4003, 8)"
      ]
     },
     "execution_count": 16,
     "metadata": {},
     "output_type": "execute_result"
    }
   ],
   "source": [
    "parent_df[parent_df['word_count'] <= 50].shape"
   ]
  },
  {
   "cell_type": "code",
   "execution_count": 19,
   "id": "99eb54bc-5904-4dd8-a1b7-3e44ad2dbe15",
   "metadata": {},
   "outputs": [
    {
     "data": {
      "text/plain": [
       "(65210, 8)"
      ]
     },
     "execution_count": 19,
     "metadata": {},
     "output_type": "execute_result"
    }
   ],
   "source": [
    "parent_df = parent_df[(parent_df['word_count'] > 50) & (parent_df['word_count'] < 400)]\n",
    "parent_df.shape"
   ]
  },
  {
   "cell_type": "markdown",
   "id": "6721be30-2abc-48eb-a259-4920130a7f45",
   "metadata": {},
   "source": [
    "#### Data Check"
   ]
  },
  {
   "cell_type": "code",
   "execution_count": 22,
   "id": "aafab822-5eb2-46e9-9cb1-e7245fb220fb",
   "metadata": {},
   "outputs": [
    {
     "data": {
      "text/plain": [
       "1411"
      ]
     },
     "execution_count": 22,
     "metadata": {},
     "output_type": "execute_result"
    }
   ],
   "source": [
    "#number of posts with links\n",
    "len([i for i in preg_df['selftext'] if 'https' in i])"
   ]
  },
  {
   "cell_type": "code",
   "execution_count": 24,
   "id": "08898ef2-1a78-45d7-962a-957ce9d576c3",
   "metadata": {},
   "outputs": [
    {
     "data": {
      "text/plain": [
       "Int64Index([  101,   202,   212,   369,   388,   406,   451,   550,   686,\n",
       "              736,\n",
       "            ...\n",
       "            93698, 93796, 93805, 93884, 93945, 94033, 94034, 94052, 94145,\n",
       "            94295],\n",
       "           dtype='int64', length=1411)"
      ]
     },
     "execution_count": 24,
     "metadata": {},
     "output_type": "execute_result"
    }
   ],
   "source": [
    "#function to find https posts with assistance from Matthew Ludwig\n",
    "preg_df[preg_df['selftext'].map(lambda x: True if \"https\" in x else False)].index"
   ]
  },
  {
   "cell_type": "code",
   "execution_count": 25,
   "id": "e84a2ce1-c9ae-4b02-b7e0-fdcfc1a7cfd0",
   "metadata": {},
   "outputs": [],
   "source": [
    "#dropping said rows\n",
    "preg_df.drop(preg_df[preg_df['selftext'].map(lambda x: True if \"https\" in x else False)].index, inplace= True)"
   ]
  },
  {
   "cell_type": "code",
   "execution_count": 26,
   "id": "c4ff40c0-9b49-4341-9563-c42c53cacfed",
   "metadata": {},
   "outputs": [
    {
     "data": {
      "text/plain": [
       "(78645, 8)"
      ]
     },
     "execution_count": 26,
     "metadata": {},
     "output_type": "execute_result"
    }
   ],
   "source": [
    "preg_df.shape"
   ]
  },
  {
   "cell_type": "code",
   "execution_count": 27,
   "id": "77784fa1-6a78-4889-a2da-96417860cc82",
   "metadata": {},
   "outputs": [
    {
     "data": {
      "text/plain": [
       "Int64Index([   34,    37,   182,   313,   373,   406,   471,   503,   568,\n",
       "              589,\n",
       "            ...\n",
       "            78961, 78964, 78993, 79009, 79011, 79015, 79041, 79071, 79085,\n",
       "            79113],\n",
       "           dtype='int64', length=1926)"
      ]
     },
     "execution_count": 27,
     "metadata": {},
     "output_type": "execute_result"
    }
   ],
   "source": [
    "#same for r/parenting\n",
    "parent_df[parent_df['selftext'].map(lambda x: True if \"https\" in x else False)].index"
   ]
  },
  {
   "cell_type": "code",
   "execution_count": 28,
   "id": "252fa3e0-832e-4179-aad0-7a869d50177c",
   "metadata": {},
   "outputs": [],
   "source": [
    "#same for r/parenting\n",
    "parent_df.drop(parent_df[parent_df['selftext'].map(lambda x: True if \"https\" in x else False)].index, inplace=True)"
   ]
  },
  {
   "cell_type": "code",
   "execution_count": 29,
   "id": "d662450c-f49a-43e9-bd81-6c87cc170274",
   "metadata": {},
   "outputs": [
    {
     "data": {
      "text/plain": [
       "(63284, 8)"
      ]
     },
     "execution_count": 29,
     "metadata": {},
     "output_type": "execute_result"
    }
   ],
   "source": [
    "parent_df.shape"
   ]
  },
  {
   "cell_type": "code",
   "execution_count": 30,
   "id": "2a1e733b-a43d-4eea-9918-474ed8940690",
   "metadata": {},
   "outputs": [
    {
     "data": {
      "text/plain": [
       "Index(['lems', 'selftext', 'title', 'title_lems', 'author', 'subreddit',\n",
       "       'all_lems', 'word_count'],\n",
       "      dtype='object')"
      ]
     },
     "execution_count": 30,
     "metadata": {},
     "output_type": "execute_result"
    }
   ],
   "source": [
    "parent_df.columns"
   ]
  },
  {
   "cell_type": "markdown",
   "id": "77166c5c-aeb8-42b7-83af-d4560ee91f2d",
   "metadata": {},
   "source": [
    "#### Downsampling to make data more managable\n",
    "We still have some very large dataframes at 78,645 ros for r/pregnant, & 63,284 rows for r/parenting. \n",
    "\n",
    "To further downsample the data and make modeling more manageable I will be randomly sampling out 25,000 posts from each subreddit for an overall total of 50,000 posts."
   ]
  },
  {
   "cell_type": "code",
   "execution_count": 31,
   "id": "370a5f26-cfcd-4cf2-9e55-010c9bd829db",
   "metadata": {},
   "outputs": [],
   "source": [
    "preg_downsample   = preg_df.sample(n= 25_000, random_state= 37)\n",
    "parent_downsample = parent_df.sample(n = 25_000, random_state= 37)"
   ]
  },
  {
   "cell_type": "code",
   "execution_count": 33,
   "id": "fbcc355c-629f-40e8-8057-9889fa979a5a",
   "metadata": {},
   "outputs": [
    {
     "name": "stdout",
     "output_type": "stream",
     "text": [
      "<class 'pandas.core.frame.DataFrame'>\n",
      "Int64Index: 25000 entries, 58976 to 88413\n",
      "Data columns (total 8 columns):\n",
      " #   Column      Non-Null Count  Dtype  \n",
      "---  ------      --------------  -----  \n",
      " 0   lems        25000 non-null  object \n",
      " 1   selftext    25000 non-null  object \n",
      " 2   title       25000 non-null  object \n",
      " 3   title_lems  25000 non-null  object \n",
      " 4   author      25000 non-null  object \n",
      " 5   subreddit   25000 non-null  object \n",
      " 6   all_lems    25000 non-null  object \n",
      " 7   word_count  25000 non-null  float64\n",
      "dtypes: float64(1), object(7)\n",
      "memory usage: 1.7+ MB\n"
     ]
    }
   ],
   "source": [
    "preg_downsample.info()"
   ]
  },
  {
   "cell_type": "code",
   "execution_count": 34,
   "id": "b3d261b1-415a-43b9-b340-27e325b77a74",
   "metadata": {},
   "outputs": [
    {
     "name": "stdout",
     "output_type": "stream",
     "text": [
      "<class 'pandas.core.frame.DataFrame'>\n",
      "Int64Index: 25000 entries, 56101 to 44721\n",
      "Data columns (total 8 columns):\n",
      " #   Column      Non-Null Count  Dtype  \n",
      "---  ------      --------------  -----  \n",
      " 0   lems        25000 non-null  object \n",
      " 1   selftext    25000 non-null  object \n",
      " 2   title       25000 non-null  object \n",
      " 3   title_lems  25000 non-null  object \n",
      " 4   author      25000 non-null  object \n",
      " 5   subreddit   25000 non-null  object \n",
      " 6   all_lems    25000 non-null  object \n",
      " 7   word_count  25000 non-null  float64\n",
      "dtypes: float64(1), object(7)\n",
      "memory usage: 1.7+ MB\n"
     ]
    }
   ],
   "source": [
    "parent_downsample.info()"
   ]
  },
  {
   "cell_type": "code",
   "execution_count": 35,
   "id": "5cf526b6-e285-41dc-ba90-6fb0293c9f98",
   "metadata": {},
   "outputs": [],
   "source": [
    "#exporting downsampled datasets to csv\n",
    "preg_downsample.to_csv('./data/preg_downsample.csv')"
   ]
  },
  {
   "cell_type": "code",
   "execution_count": 36,
   "id": "dee36b84-934c-43eb-ac92-54f67bb4522a",
   "metadata": {},
   "outputs": [],
   "source": [
    "parent_downsample.to_csv('./data/parent_downsample.csv')"
   ]
  }
 ],
 "metadata": {
  "kernelspec": {
   "display_name": "Python 3",
   "language": "python",
   "name": "python3"
  },
  "language_info": {
   "codemirror_mode": {
    "name": "ipython",
    "version": 3
   },
   "file_extension": ".py",
   "mimetype": "text/x-python",
   "name": "python",
   "nbconvert_exporter": "python",
   "pygments_lexer": "ipython3",
   "version": "3.8.8"
  }
 },
 "nbformat": 4,
 "nbformat_minor": 5
}
