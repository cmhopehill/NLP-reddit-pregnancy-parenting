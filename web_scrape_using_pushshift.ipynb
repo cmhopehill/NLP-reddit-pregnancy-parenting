{
 "cells": [
  {
   "cell_type": "markdown",
   "id": "5220118d-a612-4d47-8aed-142e5b117fa1",
   "metadata": {},
   "source": [
    "# Using Push Shift API to Scrape Data off of r/parenting and r/pregnant"
   ]
  },
  {
   "cell_type": "code",
   "execution_count": 1,
   "id": "f5f40a9e-ef52-4456-99e1-2e4fc795bef8",
   "metadata": {},
   "outputs": [],
   "source": [
    "#Imports\n",
    "import requests\n",
    "import pandas as pd \n",
    "import numpy as np\n",
    "import time "
   ]
  },
  {
   "cell_type": "markdown",
   "id": "f34f8822-aed8-46d8-96d8-56fd911b5b84",
   "metadata": {},
   "source": [
    "## Initial Scrape for Posts"
   ]
  },
  {
   "cell_type": "code",
   "execution_count": 2,
   "id": "67224b2c-8040-4390-934c-5b6c8364d394",
   "metadata": {},
   "outputs": [],
   "source": [
    "#currently just all reddit submissions need to narrow down to specific subreddit\n",
    "api_url = 'https://api.pushshift.io/reddit/search/submission' "
   ]
  },
  {
   "cell_type": "code",
   "execution_count": 3,
   "id": "7be68536-9f63-4569-b5ea-9e9bb66870e0",
   "metadata": {},
   "outputs": [],
   "source": [
    "#can map this to all of the parameters in the documentation for pushshift api\n",
    "#updated with size now\n",
    "#updated with time stamp now\n",
    "params = {\n",
    "    'subreddit' : 'pregnant',\n",
    "    'size' : 500,\n",
    "    'before' : 1635633944\n",
    "}"
   ]
  },
  {
   "cell_type": "code",
   "execution_count": 4,
   "id": "30f0a37b-1fa0-40ff-ba4d-bb4f9a282ed3",
   "metadata": {},
   "outputs": [
    {
     "data": {
      "text/plain": [
       "200"
      ]
     },
     "execution_count": 4,
     "metadata": {},
     "output_type": "execute_result"
    }
   ],
   "source": [
    "#check that requests went through\n",
    "res = requests.get(api_url, params)\n",
    "res.status_code"
   ]
  },
  {
   "cell_type": "code",
   "execution_count": 5,
   "id": "f99ba530-2208-4f4c-b735-dbff3984f347",
   "metadata": {},
   "outputs": [],
   "source": [
    "data = res.json()\n",
    "posts = data['data']"
   ]
  },
  {
   "cell_type": "code",
   "execution_count": 6,
   "id": "e0884cdf-d8e6-4fb2-89d5-3790a9af2335",
   "metadata": {},
   "outputs": [
    {
     "data": {
      "text/html": [
       "<div>\n",
       "<style scoped>\n",
       "    .dataframe tbody tr th:only-of-type {\n",
       "        vertical-align: middle;\n",
       "    }\n",
       "\n",
       "    .dataframe tbody tr th {\n",
       "        vertical-align: top;\n",
       "    }\n",
       "\n",
       "    .dataframe thead th {\n",
       "        text-align: right;\n",
       "    }\n",
       "</style>\n",
       "<table border=\"1\" class=\"dataframe\">\n",
       "  <thead>\n",
       "    <tr style=\"text-align: right;\">\n",
       "      <th></th>\n",
       "      <th>all_awardings</th>\n",
       "      <th>allow_live_comments</th>\n",
       "      <th>author</th>\n",
       "      <th>author_flair_css_class</th>\n",
       "      <th>author_flair_richtext</th>\n",
       "      <th>author_flair_text</th>\n",
       "      <th>author_flair_type</th>\n",
       "      <th>author_fullname</th>\n",
       "      <th>author_is_blocked</th>\n",
       "      <th>author_patreon_flair</th>\n",
       "      <th>...</th>\n",
       "      <th>whitelist_status</th>\n",
       "      <th>wls</th>\n",
       "      <th>author_flair_template_id</th>\n",
       "      <th>author_flair_text_color</th>\n",
       "      <th>crosspost_parent</th>\n",
       "      <th>crosspost_parent_list</th>\n",
       "      <th>url_overridden_by_dest</th>\n",
       "      <th>post_hint</th>\n",
       "      <th>preview</th>\n",
       "      <th>suggested_sort</th>\n",
       "    </tr>\n",
       "  </thead>\n",
       "  <tbody>\n",
       "    <tr>\n",
       "      <th>0</th>\n",
       "      <td>[]</td>\n",
       "      <td>False</td>\n",
       "      <td>401RG</td>\n",
       "      <td>None</td>\n",
       "      <td>[]</td>\n",
       "      <td>None</td>\n",
       "      <td>text</td>\n",
       "      <td>t2_mbjf99i</td>\n",
       "      <td>False</td>\n",
       "      <td>False</td>\n",
       "      <td>...</td>\n",
       "      <td>no_ads</td>\n",
       "      <td>0.0</td>\n",
       "      <td>NaN</td>\n",
       "      <td>NaN</td>\n",
       "      <td>NaN</td>\n",
       "      <td>NaN</td>\n",
       "      <td>NaN</td>\n",
       "      <td>NaN</td>\n",
       "      <td>NaN</td>\n",
       "      <td>NaN</td>\n",
       "    </tr>\n",
       "    <tr>\n",
       "      <th>1</th>\n",
       "      <td>[]</td>\n",
       "      <td>False</td>\n",
       "      <td>antkcia</td>\n",
       "      <td>None</td>\n",
       "      <td>[]</td>\n",
       "      <td>None</td>\n",
       "      <td>text</td>\n",
       "      <td>t2_4zoalkas</td>\n",
       "      <td>False</td>\n",
       "      <td>False</td>\n",
       "      <td>...</td>\n",
       "      <td>no_ads</td>\n",
       "      <td>0.0</td>\n",
       "      <td>NaN</td>\n",
       "      <td>NaN</td>\n",
       "      <td>NaN</td>\n",
       "      <td>NaN</td>\n",
       "      <td>NaN</td>\n",
       "      <td>NaN</td>\n",
       "      <td>NaN</td>\n",
       "      <td>NaN</td>\n",
       "    </tr>\n",
       "    <tr>\n",
       "      <th>2</th>\n",
       "      <td>[]</td>\n",
       "      <td>False</td>\n",
       "      <td>xoxoskylor</td>\n",
       "      <td>None</td>\n",
       "      <td>[]</td>\n",
       "      <td>None</td>\n",
       "      <td>text</td>\n",
       "      <td>t2_12r8fegt</td>\n",
       "      <td>False</td>\n",
       "      <td>False</td>\n",
       "      <td>...</td>\n",
       "      <td>no_ads</td>\n",
       "      <td>0.0</td>\n",
       "      <td>NaN</td>\n",
       "      <td>NaN</td>\n",
       "      <td>NaN</td>\n",
       "      <td>NaN</td>\n",
       "      <td>NaN</td>\n",
       "      <td>NaN</td>\n",
       "      <td>NaN</td>\n",
       "      <td>NaN</td>\n",
       "    </tr>\n",
       "  </tbody>\n",
       "</table>\n",
       "<p>3 rows × 69 columns</p>\n",
       "</div>"
      ],
      "text/plain": [
       "  all_awardings  allow_live_comments      author author_flair_css_class  \\\n",
       "0            []                False       401RG                   None   \n",
       "1            []                False     antkcia                   None   \n",
       "2            []                False  xoxoskylor                   None   \n",
       "\n",
       "  author_flair_richtext author_flair_text author_flair_type author_fullname  \\\n",
       "0                    []              None              text      t2_mbjf99i   \n",
       "1                    []              None              text     t2_4zoalkas   \n",
       "2                    []              None              text     t2_12r8fegt   \n",
       "\n",
       "   author_is_blocked  author_patreon_flair  ...  whitelist_status  wls  \\\n",
       "0              False                 False  ...            no_ads  0.0   \n",
       "1              False                 False  ...            no_ads  0.0   \n",
       "2              False                 False  ...            no_ads  0.0   \n",
       "\n",
       "   author_flair_template_id  author_flair_text_color  crosspost_parent  \\\n",
       "0                       NaN                      NaN               NaN   \n",
       "1                       NaN                      NaN               NaN   \n",
       "2                       NaN                      NaN               NaN   \n",
       "\n",
       "  crosspost_parent_list url_overridden_by_dest post_hint preview  \\\n",
       "0                   NaN                    NaN       NaN     NaN   \n",
       "1                   NaN                    NaN       NaN     NaN   \n",
       "2                   NaN                    NaN       NaN     NaN   \n",
       "\n",
       "   suggested_sort  \n",
       "0             NaN  \n",
       "1             NaN  \n",
       "2             NaN  \n",
       "\n",
       "[3 rows x 69 columns]"
      ]
     },
     "execution_count": 6,
     "metadata": {},
     "output_type": "execute_result"
    }
   ],
   "source": [
    "df = pd.DataFrame(posts)\n",
    "df.head(3)"
   ]
  },
  {
   "cell_type": "code",
   "execution_count": 7,
   "id": "3b26561c-4f16-4bfe-8edf-bfea521ac2a1",
   "metadata": {},
   "outputs": [
    {
     "data": {
      "text/html": [
       "<div>\n",
       "<style scoped>\n",
       "    .dataframe tbody tr th:only-of-type {\n",
       "        vertical-align: middle;\n",
       "    }\n",
       "\n",
       "    .dataframe tbody tr th {\n",
       "        vertical-align: top;\n",
       "    }\n",
       "\n",
       "    .dataframe thead th {\n",
       "        text-align: right;\n",
       "    }\n",
       "</style>\n",
       "<table border=\"1\" class=\"dataframe\">\n",
       "  <thead>\n",
       "    <tr style=\"text-align: right;\">\n",
       "      <th></th>\n",
       "      <th>selftext</th>\n",
       "    </tr>\n",
       "  </thead>\n",
       "  <tbody>\n",
       "    <tr>\n",
       "      <th>0</th>\n",
       "      <td>39w1d. He’s been VERY active lately. Has recen...</td>\n",
       "    </tr>\n",
       "    <tr>\n",
       "      <th>1</th>\n",
       "      <td>How much is the norm for newborn studio posed ...</td>\n",
       "    </tr>\n",
       "    <tr>\n",
       "      <th>2</th>\n",
       "      <td>***Added trigger warning just in case***\\n\\nHe...</td>\n",
       "    </tr>\n",
       "  </tbody>\n",
       "</table>\n",
       "</div>"
      ],
      "text/plain": [
       "                                            selftext\n",
       "0  39w1d. He’s been VERY active lately. Has recen...\n",
       "1  How much is the norm for newborn studio posed ...\n",
       "2  ***Added trigger warning just in case***\\n\\nHe..."
      ]
     },
     "execution_count": 7,
     "metadata": {},
     "output_type": "execute_result"
    }
   ],
   "source": [
    "df[['selftext']].head(3)"
   ]
  },
  {
   "cell_type": "markdown",
   "id": "3072bdc1-a3bf-4eca-9cc8-7804774f0ac4",
   "metadata": {},
   "source": [
    "## Important columns for use in function and/or in data analysis and modeling:\n",
    "* author (author of the post)\n",
    "* subreddit (subreddit the posts were scraped from) \n",
    "    * will be used for data check and classification modeling\n",
    "* title (title of the post)\n",
    "    * use as additional text data if needed\n",
    "* selftext (the text of the post)\n",
    "    * main avenue of text data\n",
    "* created_utc (unix time code or the time that the post was posted to reddit)\n",
    "    * needed for the Pushshift function to ensure that each consecutive scrape would attempt to pull new data based on pulling from before the lowest utc from the previous loop."
   ]
  },
  {
   "cell_type": "markdown",
   "id": "dad4dae3-eb9c-4bb9-a34e-e2871a527855",
   "metadata": {},
   "source": [
    "## Pushshift API Function"
   ]
  },
  {
   "cell_type": "code",
   "execution_count": 8,
   "id": "6f432500-5cb9-4d45-bfa2-7a8bbb31483d",
   "metadata": {},
   "outputs": [],
   "source": [
    "#reddit url and params set to scrape \n",
    "#function modified from code that Jeffrey Floyd Sent to assist with scraping data \n",
    "#Mark Harris also assisted with my understanding of the errors in my initial webscrape attempts that were not consistently pulling unique posts\n",
    "def get_reddit_submissions(subreddit, size = 100, before = None):\n",
    "    #api_url or the url used to scrape data off o\n",
    "    api_url = 'https://api.pushshift.io/reddit/search/submission' \n",
    "    params = {\n",
    "        'subreddit' : subreddit,\n",
    "        'size' : size,\n",
    "        'before' : before\n",
    "    }\n",
    "    \n",
    "    res  = requests.get(url= api_url, params= params)\n",
    "    data = res.json()\n",
    "    \n",
    "    posts = data['data']\n",
    "    \n",
    "    df = pd.DataFrame(posts)\n",
    "    \n",
    "    return df[['subreddit', 'title', 'selftext', 'author', 'created_utc']]\n",
    "    "
   ]
  },
  {
   "cell_type": "code",
   "execution_count": 9,
   "id": "fa7ff6b6-39c8-49bc-bb23-81256de75a2e",
   "metadata": {},
   "outputs": [],
   "source": [
    "#function modified from code that Jeffrey Floyd Sent to assist me in this project\n",
    "def bulk_scrape(sub, loop = 10, utc = None):\n",
    "    \n",
    "    bulk_df = get_reddit_submissions(subreddit= sub, before= utc)\n",
    "    \n",
    "    utc_1 = bulk_df['created_utc'].min()\n",
    "    \n",
    "    for i in range(loop-1):\n",
    "        temp_df = get_reddit_submissions(subreddit= sub, before= utc_1)\n",
    "        \n",
    "        utc_1 = temp_df['created_utc'].min()\n",
    "        \n",
    "        bulk_df = pd.concat([bulk_df, temp_df], axis= 0)\n",
    "        \n",
    "        time.sleep(2)\n",
    "        \n",
    "        print(f'{sub} progress is {int((i +1)/loop * 100)}%', end ='\\r', flush= True)\n",
    "        \n",
    "    print(f'r/{sub} data collection has completed! Size is {bulk_df.shape}')\n",
    "    return bulk_df"
   ]
  },
  {
   "cell_type": "markdown",
   "id": "ebd047a5-0d4e-47e3-adf0-05c94cae2b51",
   "metadata": {},
   "source": [
    "## Pushshift API Function Results"
   ]
  },
  {
   "cell_type": "markdown",
   "id": "36d91e4c-e755-401f-8cda-a01daa59f2d7",
   "metadata": {},
   "source": [
    "### r/pregnant Posts (or submissions)"
   ]
  },
  {
   "cell_type": "code",
   "execution_count": 92,
   "id": "274a0fda-5449-4ca9-8c8c-e322b5287a25",
   "metadata": {},
   "outputs": [
    {
     "name": "stdout",
     "output_type": "stream",
     "text": [
      "r/pregnant data collection has completed! Size is (99978, 5)\n"
     ]
    }
   ],
   "source": [
    "preg_sub_df = bulk_scrape(sub= 'pregnant', loop = 1000, utc= '1635641743')"
   ]
  },
  {
   "cell_type": "markdown",
   "id": "f6fdd925-365d-4ee5-b454-76616bd27995",
   "metadata": {},
   "source": [
    "#### r/parenting Posts (or submissions"
   ]
  },
  {
   "cell_type": "code",
   "execution_count": 101,
   "id": "1e491011-5830-45c1-a282-7cd10f5d1643",
   "metadata": {},
   "outputs": [
    {
     "name": "stdout",
     "output_type": "stream",
     "text": [
      "r/parenting data collection has completed! Size is (99988, 5)\n"
     ]
    }
   ],
   "source": [
    "parent_sub_df = bulk_scrape(sub= 'parenting', loop= 1000, utc= '1635641743')"
   ]
  }
 ],
 "metadata": {
  "kernelspec": {
   "display_name": "Python 3",
   "language": "python",
   "name": "python3"
  },
  "language_info": {
   "codemirror_mode": {
    "name": "ipython",
    "version": 3
   },
   "file_extension": ".py",
   "mimetype": "text/x-python",
   "name": "python",
   "nbconvert_exporter": "python",
   "pygments_lexer": "ipython3",
   "version": "3.8.8"
  }
 },
 "nbformat": 4,
 "nbformat_minor": 5
}
