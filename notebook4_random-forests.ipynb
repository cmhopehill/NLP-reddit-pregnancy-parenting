{
 "cells": [
  {
   "cell_type": "code",
   "execution_count": 1,
   "id": "84b8b29f-9c9c-4fe7-a578-d24d9d36f6b5",
   "metadata": {},
   "outputs": [],
   "source": [
    "#standard imports\n",
    "import pandas as pd\n",
    "import numpy as np\n",
    "import matplotlib.pyplot as plt\n",
    "import seaborn as sns\n",
    "   \n",
    "#Sklearn imports\n",
    "from sklearn.model_selection import train_test_split, GridSearchCV, cross_val_score\n",
    "from sklearn.pipeline import Pipeline \n",
    "from sklearn.linear_model import LogisticRegression\n",
    "from sklearn.metrics import confusion_matrix, plot_confusion_matrix\n",
    "from sklearn.naive_bayes import MultinomialNB\n",
    "from sklearn.feature_extraction.text import CountVectorizer, TfidfVectorizer\n",
    "\n",
    "from sklearn.ensemble import RandomForestClassifier, ExtraTreesClassifier\n",
    "\n",
    "pd.set_option('display.max_colwidth' ,999)"
   ]
  },
  {
   "cell_type": "code",
   "execution_count": 2,
   "id": "8530bf67-8ea8-4f97-a782-0b470b6bb622",
   "metadata": {},
   "outputs": [
    {
     "name": "stdout",
     "output_type": "stream",
     "text": [
      "<class 'pandas.core.frame.DataFrame'>\n",
      "RangeIndex: 50000 entries, 0 to 49999\n",
      "Data columns (total 9 columns):\n",
      " #   Column      Non-Null Count  Dtype  \n",
      "---  ------      --------------  -----  \n",
      " 0   Unnamed: 0  50000 non-null  int64  \n",
      " 1   lems        50000 non-null  object \n",
      " 2   selftext    50000 non-null  object \n",
      " 3   title       50000 non-null  object \n",
      " 4   title_lems  50000 non-null  object \n",
      " 5   author      50000 non-null  object \n",
      " 6   subreddit   50000 non-null  int64  \n",
      " 7   all_lems    50000 non-null  object \n",
      " 8   word_count  50000 non-null  float64\n",
      "dtypes: float64(1), int64(2), object(6)\n",
      "memory usage: 3.4+ MB\n"
     ]
    }
   ],
   "source": [
    "preg_parent_df = pd.read_csv('./data/preg_parent_downsample.csv')\n",
    "preg_parent_df.info()"
   ]
  },
  {
   "cell_type": "code",
   "execution_count": 3,
   "id": "4010408c-f526-40a3-979b-7fb24523eb82",
   "metadata": {},
   "outputs": [],
   "source": [
    "preg_parent_df.drop(columns='Unnamed: 0', inplace= True)"
   ]
  },
  {
   "cell_type": "code",
   "execution_count": 6,
   "id": "48874598-03a3-4e8e-8b2a-89371ca99fef",
   "metadata": {},
   "outputs": [],
   "source": [
    "#Train Test Split\n",
    "X = preg_parent_df['all_lems']\n",
    "y = preg_parent_df['subreddit']"
   ]
  },
  {
   "cell_type": "code",
   "execution_count": 7,
   "id": "5b30f087-b2cc-4b54-8a88-89e7baba5db2",
   "metadata": {},
   "outputs": [],
   "source": [
    "X_train, X_test, y_train, y_test = train_test_split(X, y, test_size= .33, random_state= 37, stratify= y)"
   ]
  },
  {
   "cell_type": "code",
   "execution_count": 8,
   "id": "1951cad0-fe30-48bb-a0d5-5e22425fd436",
   "metadata": {},
   "outputs": [],
   "source": [
    "cvec = CountVectorizer(max_features= 5_000, ngram_range= (1,2))"
   ]
  },
  {
   "cell_type": "code",
   "execution_count": 9,
   "id": "70af44fe-3d07-4c18-adcf-a90ae4178c04",
   "metadata": {},
   "outputs": [],
   "source": [
    "X_train_cvec = pd.DataFrame(cvec.fit_transform(X_train).todense(), \n",
    "                           columns= cvec.get_feature_names())\n",
    "\n",
    "X_test_cvec = pd.DataFrame(cvec.fit_transform(X_test).todense(),\n",
    "                          columns= cvec.get_feature_names())"
   ]
  },
  {
   "cell_type": "code",
   "execution_count": 11,
   "id": "7f91c3f0-ae21-46be-bee6-9536cf44181e",
   "metadata": {},
   "outputs": [],
   "source": [
    "#instantiate models \n",
    "rf = RandomForestClassifier(n_estimators= 100, random_state= 37)\n",
    "et = ExtraTreesClassifier(n_estimators= 100, random_state= 37)"
   ]
  },
  {
   "cell_type": "markdown",
   "id": "00d41645-3b77-4e36-99de-01e9398b8898",
   "metadata": {},
   "source": [
    "#### Random Forests with Basic Parameters "
   ]
  },
  {
   "cell_type": "code",
   "execution_count": 12,
   "id": "a8a73a0b-ac3b-4334-b7ef-d894610dbe41",
   "metadata": {},
   "outputs": [
    {
     "name": "stdout",
     "output_type": "stream",
     "text": [
      "Wall time: 0 ns\n"
     ]
    },
    {
     "data": {
      "text/plain": [
       "RandomForestClassifier(random_state=37)"
      ]
     },
     "execution_count": 12,
     "metadata": {},
     "output_type": "execute_result"
    }
   ],
   "source": [
    "%time\n",
    "rf.fit(X_train_cvec, y_train)"
   ]
  },
  {
   "cell_type": "code",
   "execution_count": 13,
   "id": "7a6a7937-a4d8-497d-ad05-f3e0037a1258",
   "metadata": {},
   "outputs": [
    {
     "data": {
      "text/plain": [
       "0.999910447761194"
      ]
     },
     "execution_count": 13,
     "metadata": {},
     "output_type": "execute_result"
    }
   ],
   "source": [
    "rf.score(X_train_cvec, y_train)"
   ]
  },
  {
   "cell_type": "code",
   "execution_count": 14,
   "id": "7601e4ac-b8d7-471e-bb57-8308e3829ba0",
   "metadata": {},
   "outputs": [
    {
     "data": {
      "text/plain": [
       "0.6308484848484849"
      ]
     },
     "execution_count": 14,
     "metadata": {},
     "output_type": "execute_result"
    }
   ],
   "source": [
    "rf.score(X_test_cvec, y_test)"
   ]
  },
  {
   "cell_type": "markdown",
   "id": "170fde7e-9630-46e6-86f2-d3ad5bf8d0a5",
   "metadata": {},
   "source": [
    "Random Forest Interpretation:\n",
    "* This is an incredibly overfit model! \n",
    "* So much so that I think I need to revisit it again with different parameters to check whether it was so over fit due to the model or just bad parameters"
   ]
  },
  {
   "cell_type": "markdown",
   "id": "192925a9-9a6a-4675-a4ab-a03ef33ef40b",
   "metadata": {},
   "source": [
    "#### Extra Trees with basic parameters"
   ]
  },
  {
   "cell_type": "code",
   "execution_count": 15,
   "id": "580133d9-af7e-4474-9ffc-2dfd47c5cca7",
   "metadata": {},
   "outputs": [
    {
     "data": {
      "text/plain": [
       "ExtraTreesClassifier(random_state=37)"
      ]
     },
     "execution_count": 15,
     "metadata": {},
     "output_type": "execute_result"
    }
   ],
   "source": [
    "#extra trees any better?\n",
    "et.fit(X_train_cvec, y_train)"
   ]
  },
  {
   "cell_type": "code",
   "execution_count": 16,
   "id": "c5030478-3850-4dd7-a72e-6cdf045c88b9",
   "metadata": {},
   "outputs": [
    {
     "name": "stdout",
     "output_type": "stream",
     "text": [
      "0.9999\n",
      "0.6238\n"
     ]
    }
   ],
   "source": [
    "print(round(et.score(X_train_cvec, y_train), 4))\n",
    "print(round(et.score(X_test_cvec, y_test), 4))"
   ]
  },
  {
   "cell_type": "markdown",
   "id": "b954aaa8-ea70-4c16-93a2-af35a50b1602",
   "metadata": {},
   "source": [
    "Extra Trees Interpretation:\n",
    "* This is also an incredibly overfit model! \n",
    "* Again is it just that a decision tree classifier is not very good on this data or am I not using adequate parameters?"
   ]
  },
  {
   "cell_type": "markdown",
   "id": "5bb4b5aa-a323-46ea-990b-771f53a893c6",
   "metadata": {},
   "source": [
    "### Grid Search Attempt"
   ]
  },
  {
   "cell_type": "code",
   "execution_count": 37,
   "id": "0be1d1a5-0a9e-4db3-a51a-8fbff9916ec6",
   "metadata": {},
   "outputs": [],
   "source": [
    "#rf_params = {\n",
    " #   'n_estimators' : [100, 200, 300],\n",
    "    'max_depth'    : [1, 2, 3, 4, 5],\n",
    "#}\n",
    "#gs = GridSearchCV(rf, param_grid= rf_params, cv= 5)"
   ]
  },
  {
   "cell_type": "code",
   "execution_count": 38,
   "id": "e2274f11-acf4-46fd-affc-4313630a407a",
   "metadata": {},
   "outputs": [
    {
     "name": "stdout",
     "output_type": "stream",
     "text": [
      "Wall time: 0 ns\n"
     ]
    },
    {
     "data": {
      "text/plain": [
       "GridSearchCV(cv=5, estimator=RandomForestClassifier(random_state=37),\n",
       "             param_grid={'max_depth': [1, 2, 3, 4, 5],\n",
       "                         'n_estimators': [100, 200, 300]})"
      ]
     },
     "execution_count": 38,
     "metadata": {},
     "output_type": "execute_result"
    }
   ],
   "source": [
    "#gs.fit(X_train_cvec, y_train)"
   ]
  },
  {
   "cell_type": "code",
   "execution_count": 39,
   "id": "8d8cdd14-b1a0-4ae7-a2b6-3da433ff55ae",
   "metadata": {},
   "outputs": [
    {
     "data": {
      "text/plain": [
       "0.9050666666666667"
      ]
     },
     "execution_count": 39,
     "metadata": {},
     "output_type": "execute_result"
    }
   ],
   "source": [
    "#gs.best_score_"
   ]
  },
  {
   "cell_type": "code",
   "execution_count": 40,
   "id": "447af652-ea44-40c2-915b-0f2f8c67f0a3",
   "metadata": {},
   "outputs": [
    {
     "data": {
      "text/plain": [
       "0.90856"
      ]
     },
     "execution_count": 40,
     "metadata": {},
     "output_type": "execute_result"
    }
   ],
   "source": [
    "#gs.score(X_train_cvec, y_train)"
   ]
  },
  {
   "cell_type": "code",
   "execution_count": 41,
   "id": "a2e14339-9dee-453d-85c3-65892a29905c",
   "metadata": {},
   "outputs": [
    {
     "data": {
      "text/plain": [
       "0.50888"
      ]
     },
     "execution_count": 41,
     "metadata": {},
     "output_type": "execute_result"
    }
   ],
   "source": [
    "#gs.score(X_test_cvec, y_test)"
   ]
  },
  {
   "cell_type": "code",
   "execution_count": 42,
   "id": "9a08faca-5ffb-4b8e-ab0f-17ff810ffa19",
   "metadata": {},
   "outputs": [
    {
     "data": {
      "text/plain": [
       "{'max_depth': 5, 'n_estimators': 200}"
      ]
     },
     "execution_count": 42,
     "metadata": {},
     "output_type": "execute_result"
    }
   ],
   "source": [
    "#gs.best_params_"
   ]
  },
  {
   "cell_type": "markdown",
   "id": "92a50770-5e4f-478e-913a-66ac69ca2aa2",
   "metadata": {},
   "source": [
    "Apparently the basic parameters were better than the parameters for this grid search\n",
    "\n",
    "If I were to further attempt to improve the random forests mondel further looking at how to determine the leaf split would be the place to start."
   ]
  }
 ],
 "metadata": {
  "kernelspec": {
   "display_name": "Python 3",
   "language": "python",
   "name": "python3"
  },
  "language_info": {
   "codemirror_mode": {
    "name": "ipython",
    "version": 3
   },
   "file_extension": ".py",
   "mimetype": "text/x-python",
   "name": "python",
   "nbconvert_exporter": "python",
   "pygments_lexer": "ipython3",
   "version": "3.8.8"
  }
 },
 "nbformat": 4,
 "nbformat_minor": 5
}
